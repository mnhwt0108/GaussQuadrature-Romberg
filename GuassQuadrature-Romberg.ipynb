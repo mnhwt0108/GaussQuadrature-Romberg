{
  "nbformat": 4,
  "nbformat_minor": 0,
  "metadata": {
    "colab": {
      "name": "DuongMinhNhut_ITITWE1902_TMC_Lab7.ipynb",
      "provenance": []
    },
    "kernelspec": {
      "name": "python3",
      "display_name": "Python 3"
    },
    "language_info": {
      "name": "python"
    }
  },
  "cells": [
    {
      "cell_type": "markdown",
      "metadata": {
        "id": "aOP4n6S-1n1Z"
      },
      "source": [
        "**Exercise 1:**\n",
        "\n",
        "https://github.com/mnhwt0108/GaussQuadrature-Romberg/blob/main/Questions/1.png"
      ]
    },
    {
      "cell_type": "code",
      "metadata": {
        "colab": {
          "base_uri": "https://localhost:8080/",
          "height": 349
        },
        "id": "VekevMrze9Pc",
        "outputId": "3931a6b1-698c-4141-cf44-964bf9cb531d"
      },
      "source": [
        "import math\n",
        "import matplotlib.pyplot as plt\n",
        "from __future__ import division\n",
        "from pylab import *\n",
        "from scipy.special.orthogonal import p_roots\n",
        "\n",
        "# define the function\n",
        "f = lambda x: (x**0.1)*(1.2-x)*(1-np.exp(20*(x-1)))\n",
        "\n",
        "def gauss(f,n,a,b):\n",
        "    [x,w] = p_roots(n+1)\n",
        "    G=0.5*(b-a)*sum(w*f(0.5*(b-a)*x+0.5*(b+a)))\n",
        "    return G\n",
        "\n",
        "def plotY(arr):\n",
        "  y_sol = []\n",
        "  for i in range (len(arr)):\n",
        "    temp = gauss(f,50, 0.0, arr[i])\n",
        "    y_sol.append(temp)\n",
        "  return y_sol\n",
        "\n",
        "x = np.linspace(0,1,100)\n",
        "y = plotY(x)\n",
        "\n",
        "print(\"Duong Minh Nhut - ITITWE19024\")\n",
        "starttime = timeit.default_timer()\n",
        "print(\"\\nAnswer   :\",gauss(f,50,0,1),\"\\nTime took: %f\" %(timeit.default_timer()-starttime))\n",
        "plt.plot(x,y)\n",
        "\n"
      ],
      "execution_count": 113,
      "outputs": [
        {
          "output_type": "stream",
          "name": "stdout",
          "text": [
            "Duong Minh Nhut - ITITWE19024\n",
            "\n",
            "Answer   : 0.6023087613806573 \n",
            "Time took: 0.000769\n"
          ]
        },
        {
          "output_type": "execute_result",
          "data": {
            "text/plain": [
              "[<matplotlib.lines.Line2D at 0x7f67e02f69d0>]"
            ]
          },
          "metadata": {},
          "execution_count": 113
        },
        {
          "output_type": "display_data",
          "data": {
            "image/png": "[encoded data removed]",
            "text/plain": [
              "<Figure size 432x288 with 1 Axes>"
            ]
          },
          "metadata": {
            "needs_background": "light"
          }
        }
      ]
    },
    {
      "cell_type": "markdown",
      "metadata": {
        "id": "y5CKFyAb2i0Q"
      },
      "source": [
        "**Coding and explaination:**\n",
        "\n",
        "\n",
        "\n",
        "Step 1: import libaries\n",
        "\n",
        "Step 2: define the given function\n",
        "\n",
        "\n",
        "\n",
        "Step 3: define gauss function to calculated the value\n",
        "\n",
        "\n",
        "*   input : function, number of terms, lower limit, upper limit\n",
        "*   output : final result\n",
        "\n",
        "\n",
        "\n",
        "\n",
        "\n",
        "Step 4: define plotY function to get all the calculated solutions for ploting\n",
        "\n",
        "\n",
        "*   input : arr\n",
        "*   output: y_sol\n",
        "\n",
        "\n",
        "\n",
        "Step 5: define the x axis and call plotY to get y axis of graph\n",
        "\n",
        "Step 6: call the function to calculate the answer, print out the results and plot the graph\n",
        "\n",
        "\n",
        "\n",
        "**Assessment:**\n",
        "\n",
        "From the result, it seems that the value calculated is not that far off from the true value given in the exercise\n",
        "\n",
        "\n",
        "> Calculated : 0.602308\n",
        "\n",
        "> Given : 0.602298\n",
        "\n",
        "> Difference: 0.0016603%\n",
        "\n",
        "And the time it took for calculation to be done is less than one of a tenth of a second\n",
        "\n",
        "> Time took: 0.000769\n",
        "\n",
        "Also, from the graph, we can see that the y value continously increases\n",
        "\n",
        "\n",
        "\n",
        "\n",
        "\n",
        "\n",
        "\n"
      ]
    },
    {
      "cell_type": "markdown",
      "metadata": {
        "id": "QiyZ3gA316JT"
      },
      "source": [
        "**Exercise 2:**\n",
        "https://github.com/mnhwt0108/GaussQuadrature-Romberg/blob/main/Questions/1.png"
      ]
    },
    {
      "cell_type": "code",
      "metadata": {
        "colab": {
          "base_uri": "https://localhost:8080/",
          "height": 500
        },
        "id": "GlK2Ijf_V62h",
        "outputId": "33130be9-2c9f-4e29-9c3e-335cc9493c5f"
      },
      "source": [
        "import math\n",
        "import numpy as np\n",
        "import matplotlib.pyplot as plt\n",
        "\n",
        "#function\n",
        "\n",
        "f = lambda x: 5*x*np.exp(-2*x)\n",
        "\n",
        "#Trapezoidal function to apply in Romberg\n",
        "def Trap(a,b,n):\n",
        "  h = (b-a)/n\n",
        "  s = 0\n",
        "  for i in range (n-1):\n",
        "    s+=f(a+h*(i+1))\n",
        "  return h/2*(f(a)+2*s+f(b))\n",
        "\n",
        "#Recursive Romberg function to print out only the last result\n",
        "def reRomberg(k,j,a,b):\n",
        "  if k == 1:\n",
        "    return Trap(a,b,2**(j-1))\n",
        "  else:\n",
        "    return (4**(k-1)*reRomberg(k-1,j+1,a,b)-reRomberg(k-1,j,a,b))/(4**(k-1)-1)\n",
        "\n",
        "order = 5\n",
        "#create matrix of zeros size order X order\n",
        "rom = np.zeros((order,order))\n",
        "\n",
        "#non-recursive Romberg function to print out the result table\n",
        "def Romberg(arr):\n",
        "  for i in range(order):\n",
        "    arr[i,0] = Trap(0,3,2**i)\n",
        "\n",
        "  for i in np.arange(1,order):\n",
        "    for j in np.arange(i,order):\n",
        "      arr[j,i] = rom[j,i-1] + (rom[j,i-1] - rom[j-1,i-1])/(4**i-1)\n",
        "  return arr\n",
        "\n",
        "#function to get y-axis\n",
        "def plotRom(arr):\n",
        "  y_sol = []\n",
        "  for i in range (len(arr)):\n",
        "    temp = reRomberg(5,1,0,arr[i])\n",
        "    y_sol.append(temp)\n",
        "  return y_sol\n",
        "\n",
        "#graph x and y axis\n",
        "x = np.linspace(0,3,100)\n",
        "y = plotRom(x)\n",
        "\n",
        "print(\"Duong Minh Nhut - ITITWE19024\\n\")\n",
        "starttime = timeit.default_timer()\n",
        "print(Romberg(rom), \"\\nTime took: %f\" %(timeit.default_timer()-starttime))\n",
        "starttime2 = timeit.default_timer()\n",
        "print(\"\\nSolution from recursive:\",reRomberg(5,1,0,3), \"\\nTime took: %f\" %(timeit.default_timer()-starttime2),\"\\n\\n\")\n",
        "plt.plot(x,y)\n",
        "\n"
      ],
      "execution_count": 114,
      "outputs": [
        {
          "output_type": "stream",
          "name": "stdout",
          "text": [
            "Duong Minh Nhut - ITITWE19024\n",
            "\n",
            "[[0.05577192 0.         0.         0.         0.        ]\n",
            " [0.58799048 0.76539667 0.         0.         0.        ]\n",
            " [1.01528097 1.15771114 1.18386544 0.         0.        ]\n",
            " [1.17060691 1.22238223 1.22669363 1.22737345 0.        ]\n",
            " [1.21358361 1.22790918 1.22827764 1.22830278 1.22830643]] \n",
            "Time took: 0.000217\n",
            "\n",
            "Solution from recursive: 1.2283064284164116 \n",
            "Time took: 0.000306 \n",
            "\n",
            "\n"
          ]
        },
        {
          "output_type": "execute_result",
          "data": {
            "text/plain": [
              "[<matplotlib.lines.Line2D at 0x7f67e0274390>]"
            ]
          },
          "metadata": {},
          "execution_count": 114
        },
        {
          "output_type": "display_data",
          "data": {
            "image/png": "[encoded data removed]",
            "text/plain": [
              "<Figure size 432x288 with 1 Axes>"
            ]
          },
          "metadata": {
            "needs_background": "light"
          }
        }
      ]
    },
    {
      "cell_type": "markdown",
      "metadata": {
        "id": "oPDOK2p8mF5T"
      },
      "source": [
        "**Coding and explaination:**\n",
        "\n",
        "\n",
        "\n",
        "Step 1: import libaries\n",
        "\n",
        "Step 2: define the given function\n",
        "\n",
        "Step 3: define trap function to use in Romberg function\n",
        "\n",
        "*   input : lower limit, upper limit, number of terms\n",
        "*   output : final result\n",
        "\n",
        "Step 4: define reRomberg function (recursive Romberg)\n",
        "\n",
        "*   input : k(as iteration), j(as rows of the table), lower limit, upper limit\n",
        "*   output : final result\n",
        "\n",
        "Step 5: define Romberg function to print out the result table in an matrix array\n",
        "\n",
        "*   input : arr (take in a defined array (rom))\n",
        "*   output: arr\n",
        "\n",
        "\n",
        "Step 6: define plotRom function to get all the calculated solutions for ploting\n",
        "\n",
        "*   input : arr\n",
        "*   output: y_sol\n",
        "\n",
        "Step 7: define the x axis and call plotY to get y axis of graph\n",
        "\n",
        "Step 8: call the function to calculate the answer, print out the results and plot the graph\n",
        "\n",
        "\n",
        "\n",
        "**Assessment:**\n",
        "\n",
        "From the result, it seems that the value calculated is around\n",
        "\n",
        "> Calculated from recursive : 1.2283064284164116\n",
        "\n",
        "> Calculated from non-recursive : 1.22830643\n",
        "\n",
        "\n",
        "And the time it took for calculation to be done is less than one of a tenth of a second\n",
        "\n",
        "> Time took for recursive : 0.000306\n",
        "\n",
        "> Time took for non-recursive : 0.000217\n",
        "\n",
        "Also, from the graph, we can see that the y value continously increases\n"
      ]
    }
  ]
}
